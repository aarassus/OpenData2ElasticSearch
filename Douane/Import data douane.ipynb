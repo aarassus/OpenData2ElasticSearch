{
 "cells": [
  {
   "cell_type": "markdown",
   "metadata": {},
   "source": [
    "# Import Data Douane To ElasticSearch"
   ]
  },
  {
   "cell_type": "code",
   "execution_count": 1,
   "metadata": {},
   "outputs": [],
   "source": [
    "import pandas as pd\n",
    "import os\n",
    "import elasticsearch\n",
    "from elasticsearch import Elasticsearch\n",
    "import elasticsearch_dsl"
   ]
  },
  {
   "cell_type": "code",
   "execution_count": 2,
   "metadata": {},
   "outputs": [],
   "source": [
    "my_dir = r'C:/Users/aaras/Desktop/Data_Douane'\n",
    "os.chdir(my_dir)"
   ]
  },
  {
   "cell_type": "code",
   "execution_count": 3,
   "metadata": {},
   "outputs": [],
   "source": [
    "df_export = pd.DataFrame(columns=['Flux', 'Mois', 'Annee', 'Code_CPF6','Code_A129','Code_NC8','Code_Pays','Valeur', 'Masse', 'USUP'])"
   ]
  },
  {
   "cell_type": "code",
   "execution_count": 4,
   "metadata": {},
   "outputs": [
    {
     "name": "stdout",
     "output_type": "stream",
     "text": [
      "Document National_2010_Export.txt ajoutée au dataframe\n",
      "Document National_2010_Import.txt ajoutée au dataframe\n",
      "Document National_2011_Export.txt ajoutée au dataframe\n",
      "Document National_2011_Import.txt ajoutée au dataframe\n",
      "Document National_2012_Export.txt ajoutée au dataframe\n",
      "Document National_2012_Import.txt ajoutée au dataframe\n",
      "Document National_2013_Export.txt ajoutée au dataframe\n",
      "Document National_2013_Import.txt ajoutée au dataframe\n",
      "Document National_2014_Export.txt ajoutée au dataframe\n",
      "Document National_2014_Import.txt ajoutée au dataframe\n",
      "Document National_2015_Export.txt ajoutée au dataframe\n",
      "Document National_2015_Import.txt ajoutée au dataframe\n",
      "Document National_2016_Export.txt ajoutée au dataframe\n",
      "Document National_2016_Import.txt ajoutée au dataframe\n",
      "Document National_2017_Export.txt ajoutée au dataframe\n",
      "Document National_2017_Import.txt ajoutée au dataframe\n",
      "Document National_2018_Export.txt ajoutée au dataframe\n",
      "Document National_2018_Import.txt ajoutée au dataframe\n",
      "Document National_2019_Export.txt ajoutée au dataframe\n",
      "Document National_2019_Import.txt ajoutée au dataframe\n"
     ]
    }
   ],
   "source": [
    "import_export_dir = os.path.join(my_dir,'import_export')\n",
    "os.chdir(import_export_dir)\n",
    "for file in os.listdir(import_export_dir):\n",
    "    df_export = pd.concat([df_export, pd.read_csv(file,sep=\";\",header=None,names=['Flux', 'Mois', 'Annee', 'Code_CPF6','Code_A129','Code_NC8','Code_Pays','Valeur', 'Masse', 'USUP'],dtype={'Flux': object , 'Mois': int , 'Annee': int, 'Code_CPF6': object, 'Code_A129': object, 'Code_NC8':object,'Code_Pays':object, 'Valeur':int, 'Masse':int, 'USUP':int})])\n",
    "    print('Document {} ajoutée au dataframe'.format(file))"
   ]
  },
  {
   "cell_type": "code",
   "execution_count": 6,
   "metadata": {},
   "outputs": [
    {
     "data": {
      "text/plain": [
       "40143407"
      ]
     },
     "execution_count": 6,
     "metadata": {},
     "output_type": "execute_result"
    }
   ],
   "source": [
    "df_export.shape[0]"
   ]
  },
  {
   "cell_type": "code",
   "execution_count": 18,
   "metadata": {},
   "outputs": [
    {
     "data": {
      "text/html": [
       "<div>\n",
       "<style scoped>\n",
       "    .dataframe tbody tr th:only-of-type {\n",
       "        vertical-align: middle;\n",
       "    }\n",
       "\n",
       "    .dataframe tbody tr th {\n",
       "        vertical-align: top;\n",
       "    }\n",
       "\n",
       "    .dataframe thead th {\n",
       "        text-align: right;\n",
       "    }\n",
       "</style>\n",
       "<table border=\"1\" class=\"dataframe\">\n",
       "  <thead>\n",
       "    <tr style=\"text-align: right;\">\n",
       "      <th></th>\n",
       "      <th>Flux</th>\n",
       "      <th>Mois</th>\n",
       "      <th>Annee</th>\n",
       "      <th>Code_CPF6</th>\n",
       "      <th>Code_A129</th>\n",
       "      <th>Code_NC8</th>\n",
       "      <th>Code_Pays</th>\n",
       "      <th>Valeur</th>\n",
       "      <th>Masse</th>\n",
       "      <th>USUP</th>\n",
       "    </tr>\n",
       "  </thead>\n",
       "  <tbody>\n",
       "    <tr>\n",
       "      <td>17201</td>\n",
       "      <td>E</td>\n",
       "      <td>1</td>\n",
       "      <td>2010</td>\n",
       "      <td>105140</td>\n",
       "      <td>C10E</td>\n",
       "      <td>04069099</td>\n",
       "      <td>NaN</td>\n",
       "      <td>1911</td>\n",
       "      <td>99</td>\n",
       "      <td>0</td>\n",
       "    </tr>\n",
       "    <tr>\n",
       "      <td>28373</td>\n",
       "      <td>E</td>\n",
       "      <td>1</td>\n",
       "      <td>2010</td>\n",
       "      <td>110610</td>\n",
       "      <td>C11Z</td>\n",
       "      <td>11071099</td>\n",
       "      <td>NaN</td>\n",
       "      <td>109620</td>\n",
       "      <td>378000</td>\n",
       "      <td>0</td>\n",
       "    </tr>\n",
       "    <tr>\n",
       "      <td>34913</td>\n",
       "      <td>E</td>\n",
       "      <td>1</td>\n",
       "      <td>2010</td>\n",
       "      <td>139214</td>\n",
       "      <td>C13Z</td>\n",
       "      <td>63026000</td>\n",
       "      <td>NaN</td>\n",
       "      <td>2125</td>\n",
       "      <td>60</td>\n",
       "      <td>0</td>\n",
       "    </tr>\n",
       "    <tr>\n",
       "      <td>47241</td>\n",
       "      <td>E</td>\n",
       "      <td>1</td>\n",
       "      <td>2010</td>\n",
       "      <td>141922</td>\n",
       "      <td>C14Z</td>\n",
       "      <td>62114390</td>\n",
       "      <td>NaN</td>\n",
       "      <td>24000</td>\n",
       "      <td>404</td>\n",
       "      <td>0</td>\n",
       "    </tr>\n",
       "    <tr>\n",
       "      <td>74258</td>\n",
       "      <td>E</td>\n",
       "      <td>1</td>\n",
       "      <td>2010</td>\n",
       "      <td>205310</td>\n",
       "      <td>C20C</td>\n",
       "      <td>33021090</td>\n",
       "      <td>NaN</td>\n",
       "      <td>5610</td>\n",
       "      <td>490</td>\n",
       "      <td>0</td>\n",
       "    </tr>\n",
       "    <tr>\n",
       "      <td>...</td>\n",
       "      <td>...</td>\n",
       "      <td>...</td>\n",
       "      <td>...</td>\n",
       "      <td>...</td>\n",
       "      <td>...</td>\n",
       "      <td>...</td>\n",
       "      <td>...</td>\n",
       "      <td>...</td>\n",
       "      <td>...</td>\n",
       "      <td>...</td>\n",
       "    </tr>\n",
       "    <tr>\n",
       "      <td>1680503</td>\n",
       "      <td>I</td>\n",
       "      <td>12</td>\n",
       "      <td>2019</td>\n",
       "      <td>323015</td>\n",
       "      <td>C32C</td>\n",
       "      <td>95069990</td>\n",
       "      <td>NaN</td>\n",
       "      <td>312</td>\n",
       "      <td>4</td>\n",
       "      <td>0</td>\n",
       "    </tr>\n",
       "    <tr>\n",
       "      <td>1680962</td>\n",
       "      <td>I</td>\n",
       "      <td>12</td>\n",
       "      <td>2019</td>\n",
       "      <td>324031</td>\n",
       "      <td>C32C</td>\n",
       "      <td>95030010</td>\n",
       "      <td>NaN</td>\n",
       "      <td>143</td>\n",
       "      <td>14</td>\n",
       "      <td>0</td>\n",
       "    </tr>\n",
       "    <tr>\n",
       "      <td>1681349</td>\n",
       "      <td>I</td>\n",
       "      <td>12</td>\n",
       "      <td>2019</td>\n",
       "      <td>324039</td>\n",
       "      <td>C32C</td>\n",
       "      <td>95030099</td>\n",
       "      <td>NaN</td>\n",
       "      <td>821</td>\n",
       "      <td>138</td>\n",
       "      <td>0</td>\n",
       "    </tr>\n",
       "    <tr>\n",
       "      <td>1685543</td>\n",
       "      <td>I</td>\n",
       "      <td>12</td>\n",
       "      <td>2019</td>\n",
       "      <td>329959</td>\n",
       "      <td>C32C</td>\n",
       "      <td>99050000</td>\n",
       "      <td>NaN</td>\n",
       "      <td>705</td>\n",
       "      <td>0</td>\n",
       "      <td>0</td>\n",
       "    </tr>\n",
       "    <tr>\n",
       "      <td>1687460</td>\n",
       "      <td>I</td>\n",
       "      <td>12</td>\n",
       "      <td>2019</td>\n",
       "      <td>900313</td>\n",
       "      <td>R90Z</td>\n",
       "      <td>97030000</td>\n",
       "      <td>NaN</td>\n",
       "      <td>189</td>\n",
       "      <td>13</td>\n",
       "      <td>0</td>\n",
       "    </tr>\n",
       "  </tbody>\n",
       "</table>\n",
       "<p>10202 rows × 10 columns</p>\n",
       "</div>"
      ],
      "text/plain": [
       "        Flux Mois Annee Code_CPF6 Code_A129  Code_NC8 Code_Pays  Valeur  \\\n",
       "17201      E    1  2010    105140      C10E  04069099       NaN    1911   \n",
       "28373      E    1  2010    110610      C11Z  11071099       NaN  109620   \n",
       "34913      E    1  2010    139214      C13Z  63026000       NaN    2125   \n",
       "47241      E    1  2010    141922      C14Z  62114390       NaN   24000   \n",
       "74258      E    1  2010    205310      C20C  33021090       NaN    5610   \n",
       "...      ...  ...   ...       ...       ...       ...       ...     ...   \n",
       "1680503    I   12  2019    323015      C32C  95069990       NaN     312   \n",
       "1680962    I   12  2019    324031      C32C  95030010       NaN     143   \n",
       "1681349    I   12  2019    324039      C32C  95030099       NaN     821   \n",
       "1685543    I   12  2019    329959      C32C  99050000       NaN     705   \n",
       "1687460    I   12  2019    900313      R90Z  97030000       NaN     189   \n",
       "\n",
       "          Masse USUP  \n",
       "17201        99    0  \n",
       "28373    378000    0  \n",
       "34913        60    0  \n",
       "47241       404    0  \n",
       "74258       490    0  \n",
       "...         ...  ...  \n",
       "1680503       4    0  \n",
       "1680962      14    0  \n",
       "1681349     138    0  \n",
       "1685543       0    0  \n",
       "1687460      13    0  \n",
       "\n",
       "[10202 rows x 10 columns]"
      ]
     },
     "execution_count": 18,
     "metadata": {},
     "output_type": "execute_result"
    }
   ],
   "source": [
    "df_export.loc[df_export['Code_Pays'].isnull()]"
   ]
  },
  {
   "cell_type": "code",
   "execution_count": 19,
   "metadata": {},
   "outputs": [],
   "source": [
    "df_null = df_export.loc[df_export['Code_Pays'].isnull()]"
   ]
  },
  {
   "cell_type": "code",
   "execution_count": null,
   "metadata": {},
   "outputs": [],
   "source": [
    "additional_data_dir = os.path.join(my_dir,'additional_data')\n",
    "os.chdir(additional_data_dir)\n",
    "df_a129 = pd.read_csv('Libelle_A129.txt', sep=\";\", header=None, names = ['Code_A129','Libelle_A129','c','d'], usecols = ['Code_A129','Libelle_A129'], dtype={'Code_A129':object,'Libelle_A129':object})\n",
    "df_cpf6 = pd.read_csv('Libelle_CPF6.txt', sep=\";\", header=None, names = ['Code_CPF6', 'Libelle_CPF6','c','d'], usecols = ['Code_CPF6', 'Libelle_CPF6'],dtype={'Code_CPF6':object,'Libelle_CPF6':object})\n",
    "df_nc8 = pd.read_csv('Libelle_NC8_2019.txt', sep=\";\", header=0,encoding = 'latin-1', names = ['Code_NC8','Libelle_NC8',\"Présence d'unité supplémentaire\" , \"Nature de l'unité supplémentaire\",\"Debut\",\"Fin\"], usecols = ['Code_NC8','Libelle_NC8'], dtype={'Code_NC8':object,'Libelle_NC8':object} )\n",
    "df_pays = pd.read_csv('Libelle_PAYS.txt', sep=\";\", header=None, names = ['Code_Pays', 'Libelle_Pays', 'c','d'],usecols=['Code_Pays', 'Libelle_Pays'], dtype={'Code_Pays':object,'Libelle_Pays':object})\n"
   ]
  },
  {
   "cell_type": "code",
   "execution_count": null,
   "metadata": {},
   "outputs": [],
   "source": [
    "df_export_new = pd.merge(df_export, df_a129, how='left')\n",
    "print('Libellés A129 ajoutés')\n",
    "print(df_export_new.shape[0])\n",
    "df_export_new = pd.merge(df_export_new, df_cpf6,how='left')\n",
    "print('Libellés CPF6 ajoutés')\n",
    "print(df_export_new.shape[0])\n",
    "df_export_new = pd.merge(df_export_new, df_nc8,how='left')\n",
    "print('Libellés NC8 ajoutés')\n",
    "print(df_export_new.shape[0])\n",
    "df_export_new = pd.merge(df_export_new, df_pays,how='left')\n",
    "print('Libellés Pays ajoutés')\n",
    "print(df_export_new.shape[0])\n",
    "new_columns_order = ['Flux', 'Mois', 'Annee', 'Code_CPF6', 'Libelle_CPF6', 'Code_A129','Libelle_A129', 'Code_NC8', 'Libelle_NC8','Code_Pays','Libelle_Pays', 'Valeur', 'Masse', 'USUP']\n",
    "df_export_new = df_export_new.reindex(columns = new_columns_order)\n",
    "print(df_export.shape[0])"
   ]
  },
  {
   "cell_type": "code",
   "execution_count": null,
   "metadata": {},
   "outputs": [],
   "source": [
    "df_export.columns"
   ]
  },
  {
   "cell_type": "code",
   "execution_count": null,
   "metadata": {},
   "outputs": [],
   "source": [
    "df_export.loc[df_export['Code_Pays'].isnull()]"
   ]
  },
  {
   "cell_type": "markdown",
   "metadata": {},
   "source": [
    "### Explication des champs\n",
    "* Flux : le flux correspond au mouvement de la marchandise. Ce champ est valorisé à I pour\n",
    "Importation et à E pour Exportation\n",
    "* Mois : c'est le mois durant lequel a eu lieu le mouvement de marchandise.\n",
    "* Année: c'est l'année durant laquelle a eu lieu le mouvement de marchandise.\n",
    "* Code CPF6 : C'est le niveau fin de la nomenclature Classification de produits française (CPF).\n",
    "La CPF est la nomenclature statistique, nationale et centrale de produits. C'est une nomenclature de\n",
    "produit et de service. Elle permet aux données du commerce extérieur d'être intégrées avec d'autres\n",
    "statistiques économiques telles que la production industrielle ou la consommation dans des analyses\n",
    "économiques tant globales que régionales.\n",
    "* Code A129 : La nomenclature A129 correspond à une nomenclature de regroupement des niveaux\n",
    "de la CPF pour répondre aux besoins de la production de données de synthèse pour l'analyse\n",
    "économique et la diffusion.\n",
    "* Code NC8 : C'est le code de la nomenclature combinée à 8 chiffres (NC8), utilisée pour les\n",
    "obligations déclaratives des opérateurs auprès de la douane, permet une connaissance détaillée du\n",
    "commerce extérieur de la France : elle compte en effet un peu moins de 10 000 rubriques.\n",
    "* Code Pays : C'est un code à deux caractères alphabétiques attribué à chaque pays par la\n",
    "Commission des communautés européennes.\n",
    "     * À l'importation, les marchandises sont relevées au compte du pays d'origine.\n",
    "     * À l'exportation, les envois sont imputés au compte de la destination finale déclarée.\n",
    "* Valeur : La valeur des échanges est exprimée en euros.\n",
    "* Masse : Les masses sont exprimées en kilogrammes.\n",
    "* USUP : Unité supplémentaire."
   ]
  },
  {
   "cell_type": "code",
   "execution_count": null,
   "metadata": {
    "scrolled": false
   },
   "outputs": [],
   "source": [
    "from datetime import datetime\n",
    "from elasticsearch_dsl import Document, Date, Integer, Keyword, Text\n",
    "from elasticsearch_dsl.connections import connections\n",
    "\n",
    "# Define a default Elasticsearch client\n",
    "connections.create_connection(hosts=['localhost'])\n",
    "\n",
    "\n",
    "\n",
    "class ExportDouane(Document):\n",
    "  \n",
    "    flux = Keyword()\n",
    "    mois = Integer() \n",
    "    annee = Integer()\n",
    "    code_CPF6 = Keyword()\n",
    "    code_A129 = Keyword()\n",
    "    code_NC8 = Keyword()\n",
    "    code_pays = Keyword()\n",
    "    valeur = Integer()\n",
    "    masse = Integer()\n",
    "    usup = Integer()\n",
    "    \n",
    "    class Index:\n",
    "        name = 'export_douane'\n",
    "\n",
    "    def save(self, ** kwargs):\n",
    "        \n",
    "        return super(ExportDouane, self).save(** kwargs)\n",
    "\n",
    "    def is_published(self):\n",
    "        return datetime.now() >= self.published_from\n",
    "\n",
    "# create the mappings in elasticsearch\n",
    "\n",
    "\n"
   ]
  },
  {
   "cell_type": "code",
   "execution_count": null,
   "metadata": {},
   "outputs": [],
   "source": [
    "def import_df(df):\n",
    "    lis = []\n",
    "    for i in range (df.shape[0]):\n",
    "        info_export = df.loc[i].tolist() #['Flux', 'Mois', 'Annee', 'Code_CPF6','Code_A129','Code_NC8','Code_Pays','Valeur', 'Masse', 'USUP'] \n",
    "         # create and save and article\n",
    "        export = ExportDouane(meta={'id': i}, tags=['test'])\n",
    "        export.flux = info_export[0]\n",
    "        export.mois =  info_export[1]\n",
    "        export.annee = info_export[2]\n",
    "        export.code_CPF6 = info_export[3]\n",
    "        export.code_A129 = info_export[4]\n",
    "        export.code_NC8 = info_export[5]\n",
    "        export.code_pays = info_export[6]\n",
    "        export.valeur = info_export[7]\n",
    "        export.masse = info_export[8]\n",
    "        export.usup = info_export[9]\n",
    "        export.published_from = datetime.now()\n",
    "\n",
    "        print('Export n°{} importé'.format(i))\n",
    "\n",
    "    "
   ]
  },
  {
   "cell_type": "code",
   "execution_count": null,
   "metadata": {},
   "outputs": [],
   "source": [
    "df.shape\n"
   ]
  },
  {
   "cell_type": "code",
   "execution_count": null,
   "metadata": {},
   "outputs": [],
   "source": [
    "lis = df.loc[0].tolist()"
   ]
  },
  {
   "cell_type": "code",
   "execution_count": null,
   "metadata": {},
   "outputs": [],
   "source": [
    "lis\n"
   ]
  },
  {
   "cell_type": "code",
   "execution_count": null,
   "metadata": {},
   "outputs": [],
   "source": [
    "df1 = df[:20]\n",
    "df2 = df1.T"
   ]
  },
  {
   "cell_type": "code",
   "execution_count": null,
   "metadata": {},
   "outputs": [],
   "source": [
    "dico=df2.to_dict()\n",
    "dico"
   ]
  },
  {
   "cell_type": "code",
   "execution_count": null,
   "metadata": {},
   "outputs": [],
   "source": [
    "for i in dico:\n",
    "    a = json.dumps(dico[i])\n",
    "    print(a)\n",
    "\n"
   ]
  },
  {
   "cell_type": "code",
   "execution_count": null,
   "metadata": {},
   "outputs": [],
   "source": [
    "df2.to_json (r'National_2019_Export_test.json') \n"
   ]
  },
  {
   "cell_type": "code",
   "execution_count": null,
   "metadata": {},
   "outputs": [],
   "source": [
    "es = elasticsearch.Elasticsearch(['http://localhost:9200/'])"
   ]
  },
  {
   "cell_type": "code",
   "execution_count": null,
   "metadata": {},
   "outputs": [],
   "source": [
    "import numpy as np\n",
    "df = pd.DataFrame(np.random.randint(0,100,size=(100, 4)), columns=list('ABCD'))\n",
    "\n",
    "INDEX=\"dataframe\"\n",
    "TYPE= \"record\"\n",
    "\n",
    "def rec_to_actions(df):\n",
    "    import json\n",
    "    for record in df.to_dict(orient=\"records\"):\n",
    "        yield ('{ \"index\" : { \"_index\" : \"%s\", \"_type\" : \"%s\" }}'% (INDEX, TYPE))\n",
    "        yield (json.dumps(record, default=int))"
   ]
  },
  {
   "cell_type": "code",
   "execution_count": null,
   "metadata": {},
   "outputs": [],
   "source": [
    "\n",
    "e = Elasticsearch()\n",
    "r = e.bulk(rec_to_actions(df))"
   ]
  },
  {
   "cell_type": "code",
   "execution_count": null,
   "metadata": {},
   "outputs": [],
   "source": []
  },
  {
   "cell_type": "code",
   "execution_count": null,
   "metadata": {},
   "outputs": [],
   "source": []
  }
 ],
 "metadata": {
  "kernelspec": {
   "display_name": "Python 3",
   "language": "python",
   "name": "python3"
  },
  "language_info": {
   "codemirror_mode": {
    "name": "ipython",
    "version": 3
   },
   "file_extension": ".py",
   "mimetype": "text/x-python",
   "name": "python",
   "nbconvert_exporter": "python",
   "pygments_lexer": "ipython3",
   "version": "3.7.4"
  }
 },
 "nbformat": 4,
 "nbformat_minor": 2
}
